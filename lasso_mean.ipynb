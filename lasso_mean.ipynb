{
  "nbformat": 4,
  "nbformat_minor": 0,
  "metadata": {
    "colab": {
      "name": "lasso_mean.ipynb",
      "provenance": [],
      "mount_file_id": "18OwBZj0GXK9Ty5FaLoY9D_iW5bl8SZjl",
      "authorship_tag": "ABX9TyMJiO9Dj4roospD6/WgjlTE",
      "include_colab_link": true
    },
    "kernelspec": {
      "display_name": "Python 3",
      "name": "python3"
    }
  },
  "cells": [
    {
      "cell_type": "markdown",
      "metadata": {
        "id": "view-in-github",
        "colab_type": "text"
      },
      "source": [
        "<a href=\"https://colab.research.google.com/github/akshar99/AI-Trading/blob/main/lasso_mean.ipynb\" target=\"_parent\"><img src=\"https://colab.research.google.com/assets/colab-badge.svg\" alt=\"Open In Colab\"/></a>"
      ]
    },
    {
      "cell_type": "code",
      "metadata": {
        "id": "FPVboAAPb_M7"
      },
      "source": [
        "import pandas as pd\r\n",
        "import numpy as np\r\n",
        "import seaborn as sns\r\n",
        "import matplotlib.pyplot as plt\r\n",
        "from sklearn.model_selection import train_test_split\r\n",
        "from sklearn.linear_model import Lasso \r\n",
        "from sklearn.metrics import mean_absolute_error ,accuracy_score\r\n",
        "\r\n",
        "\r\n",
        "df = pd.read_csv('/content/drive/MyDrive/python/dfn.csv')\r\n",
        "df=df.fillna(df.mean())\r\n",
        "df= df.drop(columns='Marker')\r\n",
        "df= df.drop(columns='Unnamed: 0')\r\n",
        "nd = df['Close'].to_frame()\r\n",
        "for lag in [1,2,3,4,5,6,7,8,9,10]:\r\n",
        "  shift = lag\r\n",
        "  shifted = df.shift(shift)\r\n",
        "  shifted.columns = [str.format('%s_shifted_by_%d' % (column ,shift)) for column in shifted.columns]\r\n",
        "  nd = pd.concat((nd,shifted) , axis=1)\r\n",
        "\r\n",
        "df_ = nd\r\n",
        "df_ = df_.fillna(df_.mean())\r\n",
        "df_ = df_.select_dtypes(include=np.number)\r\n",
        "df_ = df_.fillna(df.mean())\r\n",
        "\r\n",
        "forward_lag = 5\r\n",
        "df_['target'] = df_['Close'].shift(-forward_lag)\r\n",
        "\r\n",
        "x = df_.drop('target' , axis=1)\r\n",
        "y=df_['target']\r\n",
        "X_train , X_test , y_train ,y_test = train_test_split(x,y , test_size=0.3 , random_state=42)\r\n",
        "correlations = np.abs(X_train.corrwith(y_train))\r\n",
        "\r\n",
        "features = list(correlations.sort_values(ascending=False)[0:50].index)\r\n",
        "\r\n",
        "X_train=X_train[features]\r\n",
        "X_train = X_train.fillna(X_train.mean())\r\n",
        "X_test = X_test[features]\r\n",
        "X_test = X_test.fillna(X_test.mean())"
      ],
      "execution_count": null,
      "outputs": []
    },
    {
      "cell_type": "code",
      "metadata": {
        "colab": {
          "base_uri": "https://localhost:8080/"
        },
        "id": "fRxeCaQ2q1Ed",
        "outputId": "c4a68d1b-ffcc-4b40-8155-387980c5eb1d"
      },
      "source": [
        "df.shape"
      ],
      "execution_count": null,
      "outputs": [
        {
          "output_type": "execute_result",
          "data": {
            "text/plain": [
              "(2964, 24)"
            ]
          },
          "metadata": {
            "tags": []
          },
          "execution_count": 94
        }
      ]
    },
    {
      "cell_type": "code",
      "metadata": {
        "id": "bUYRGVRygvnL"
      },
      "source": [
        "y_test[np.isnan(y_test)] = np.nanmean(y_test)"
      ],
      "execution_count": null,
      "outputs": []
    },
    {
      "cell_type": "code",
      "metadata": {
        "id": "y3bze4A0hwrR"
      },
      "source": [
        "y_train[np.isnan(y_train)] = np.nanmean(y_train)"
      ],
      "execution_count": null,
      "outputs": []
    },
    {
      "cell_type": "code",
      "metadata": {
        "colab": {
          "base_uri": "https://localhost:8080/"
        },
        "id": "XaSYbZRWdn2d",
        "outputId": "b10f28c8-ea20-4c1a-87b3-679d2464d117"
      },
      "source": [
        "df.isnull().sum()"
      ],
      "execution_count": null,
      "outputs": [
        {
          "output_type": "execute_result",
          "data": {
            "text/plain": [
              "Date                  0\n",
              "Open                  0\n",
              "High                  0\n",
              "Low                   0\n",
              "Close                 0\n",
              "Percentage Change     0\n",
              "Pivot                 0\n",
              "R1                    0\n",
              "R2                    0\n",
              "S1                    0\n",
              "S2                    0\n",
              "Moving Average 5      0\n",
              "Moving Average 10     0\n",
              "Moving Average 20     0\n",
              "Moving Average 50     0\n",
              "Moving Average 200    0\n",
              "TR                    0\n",
              "ATR                   0\n",
              "Upper Basic           0\n",
              "Lower Basic           0\n",
              "Upper Band            0\n",
              "Lower Band            0\n",
              "SuperTrend            0\n",
              "RSI                   0\n",
              "dtype: int64"
            ]
          },
          "metadata": {
            "tags": []
          },
          "execution_count": 30
        }
      ]
    },
    {
      "cell_type": "code",
      "metadata": {
        "id": "UOn8Pwo6dIBr"
      },
      "source": [
        "lso = Lasso(alpha=0.001 , max_iter=2000)"
      ],
      "execution_count": null,
      "outputs": []
    },
    {
      "cell_type": "code",
      "metadata": {
        "id": "THjRi6LWePwP"
      },
      "source": [
        "y_train = y_train.fillna(y_train.mean())"
      ],
      "execution_count": null,
      "outputs": []
    },
    {
      "cell_type": "code",
      "metadata": {
        "colab": {
          "base_uri": "https://localhost:8080/"
        },
        "id": "91LxCfFbelaA",
        "outputId": "d64b8b98-4a3e-41aa-b869-4e5bd25f1df1"
      },
      "source": [
        "y_train.isnull().unique().sum()"
      ],
      "execution_count": null,
      "outputs": [
        {
          "output_type": "execute_result",
          "data": {
            "text/plain": [
              "0"
            ]
          },
          "metadata": {
            "tags": []
          },
          "execution_count": 45
        }
      ]
    },
    {
      "cell_type": "code",
      "metadata": {
        "colab": {
          "base_uri": "https://localhost:8080/"
        },
        "id": "6D_E6gF7dLuh",
        "outputId": "09088267-70dd-49ac-b781-a87464029625"
      },
      "source": [
        "lso.fit(X_train ,y_train)"
      ],
      "execution_count": null,
      "outputs": [
        {
          "output_type": "stream",
          "text": [
            "/usr/local/lib/python3.6/dist-packages/sklearn/linear_model/_coordinate_descent.py:476: ConvergenceWarning: Objective did not converge. You might want to increase the number of iterations. Duality gap: 185661979.49882528, tolerance: 1302951.9759815491\n",
            "  positive)\n"
          ],
          "name": "stderr"
        },
        {
          "output_type": "execute_result",
          "data": {
            "text/plain": [
              "Lasso(alpha=0.001, copy_X=True, fit_intercept=True, max_iter=2000,\n",
              "      normalize=False, positive=False, precompute=False, random_state=None,\n",
              "      selection='cyclic', tol=0.0001, warm_start=False)"
            ]
          },
          "metadata": {
            "tags": []
          },
          "execution_count": 73
        }
      ]
    },
    {
      "cell_type": "code",
      "metadata": {
        "id": "d5lemp96dO7r"
      },
      "source": [
        "y_pred = lso.predict(X_test)"
      ],
      "execution_count": null,
      "outputs": []
    },
    {
      "cell_type": "code",
      "metadata": {
        "id": "D_VfvD24f-ev"
      },
      "source": [
        "y_pred2 = pd.DataFrame(y_pred)"
      ],
      "execution_count": null,
      "outputs": []
    },
    {
      "cell_type": "code",
      "metadata": {
        "id": "hxfU44kTfhse"
      },
      "source": [
        "y_pred2 = y_pred2.fillna(y_pred2.mean)\r\n"
      ],
      "execution_count": null,
      "outputs": []
    },
    {
      "cell_type": "code",
      "metadata": {
        "colab": {
          "base_uri": "https://localhost:8080/",
          "height": 312
        },
        "id": "QZNCwreafJB_",
        "outputId": "3c2cd246-7062-4a77-c724-3940706a627a"
      },
      "source": [
        "sns.scatterplot(x=y_test[:200] , y=y_pred[:200])\r\n",
        "plt.title('Scatter on Line of Best Fit')"
      ],
      "execution_count": null,
      "outputs": [
        {
          "output_type": "execute_result",
          "data": {
            "text/plain": [
              "Text(0.5, 1.0, 'Scatter on Line of Best Fit')"
            ]
          },
          "metadata": {
            "tags": []
          },
          "execution_count": 116
        },
        {
          "output_type": "display_data",
          "data": {
            "image/png": "[encoded data removed]",
            "text/plain": [
              "<Figure size 432x288 with 1 Axes>"
            ]
          },
          "metadata": {
            "tags": [],
            "needs_background": "light"
          }
        }
      ]
    },
    {
      "cell_type": "code",
      "metadata": {
        "id": "cGuU9O1DixKZ"
      },
      "source": [
        "import math"
      ],
      "execution_count": null,
      "outputs": []
    },
    {
      "cell_type": "code",
      "metadata": {
        "id": "dnsVRAjnfSeb"
      },
      "source": [
        "RMSE = math.sqrt(mean_absolute_error(y_test , y_pred))"
      ],
      "execution_count": null,
      "outputs": []
    },
    {
      "cell_type": "code",
      "metadata": {
        "colab": {
          "base_uri": "https://localhost:8080/"
        },
        "id": "r_bWUlt5fbHL",
        "outputId": "0079c971-0d0c-4d8a-9023-aa6decdf4329"
      },
      "source": [
        "y_test.isnull().sum()"
      ],
      "execution_count": null,
      "outputs": [
        {
          "output_type": "execute_result",
          "data": {
            "text/plain": [
              "2"
            ]
          },
          "metadata": {
            "tags": []
          },
          "execution_count": 68
        }
      ]
    },
    {
      "cell_type": "code",
      "metadata": {
        "colab": {
          "base_uri": "https://localhost:8080/"
        },
        "id": "IkrE94Hzgm5H",
        "outputId": "e3bf1bac-c09f-478a-9b22-a759b4496740"
      },
      "source": [
        "RMSE"
      ],
      "execution_count": null,
      "outputs": [
        {
          "output_type": "execute_result",
          "data": {
            "text/plain": [
              "14.778060862495872"
            ]
          },
          "metadata": {
            "tags": []
          },
          "execution_count": 82
        }
      ]
    },
    {
      "cell_type": "code",
      "metadata": {
        "colab": {
          "base_uri": "https://localhost:8080/"
        },
        "id": "rTDI73Qfi1Ir",
        "outputId": "9c32fe02-f427-45b9-f8f5-bd22b602b37f"
      },
      "source": [
        "mae = mean_absolute_error(y_test , y_pred)\r\n",
        "mae"
      ],
      "execution_count": null,
      "outputs": [
        {
          "output_type": "execute_result",
          "data": {
            "text/plain": [
              "218.39108285563225"
            ]
          },
          "metadata": {
            "tags": []
          },
          "execution_count": 90
        }
      ]
    },
    {
      "cell_type": "code",
      "metadata": {
        "colab": {
          "base_uri": "https://localhost:8080/"
        },
        "id": "S8n2MuoDjn3q",
        "outputId": "e4368281-cc9b-4cf7-cc17-baa8cbb15560"
      },
      "source": [
        "(mae/7762)*100"
      ],
      "execution_count": null,
      "outputs": [
        {
          "output_type": "execute_result",
          "data": {
            "text/plain": [
              "2.8135929252207195"
            ]
          },
          "metadata": {
            "tags": []
          },
          "execution_count": 89
        }
      ]
    },
    {
      "cell_type": "code",
      "metadata": {
        "id": "47a9H2vnkhyb"
      },
      "source": [
        "y_pred_train = lso.predict(X_train)"
      ],
      "execution_count": null,
      "outputs": []
    },
    {
      "cell_type": "code",
      "metadata": {
        "colab": {
          "base_uri": "https://localhost:8080/"
        },
        "id": "f5mJTXPQk12U",
        "outputId": "758ab4e3-728b-4ae6-e58f-86e0e8d4f9dc"
      },
      "source": [
        "mean_absolute_error(y_train , y_pred_train)"
      ],
      "execution_count": null,
      "outputs": [
        {
          "output_type": "execute_result",
          "data": {
            "text/plain": [
              "207.7027613619715"
            ]
          },
          "metadata": {
            "tags": []
          },
          "execution_count": 92
        }
      ]
    },
    {
      "cell_type": "code",
      "metadata": {
        "id": "g-jjB0uQk64b"
      },
      "source": [
        "RMSE_train = math.sqrt(mean_absolute_error(y_train , y_pred_train))"
      ],
      "execution_count": null,
      "outputs": []
    },
    {
      "cell_type": "code",
      "metadata": {
        "colab": {
          "base_uri": "https://localhost:8080/"
        },
        "id": "OWv_FHXu3eDl",
        "outputId": "5b61ad74-5887-4a94-9888-50b65bfa7a0e"
      },
      "source": [
        "RMSE_train"
      ],
      "execution_count": null,
      "outputs": [
        {
          "output_type": "execute_result",
          "data": {
            "text/plain": [
              "14.411896522039406"
            ]
          },
          "metadata": {
            "tags": []
          },
          "execution_count": 96
        }
      ]
    },
    {
      "cell_type": "code",
      "metadata": {
        "colab": {
          "base_uri": "https://localhost:8080/"
        },
        "id": "ch-GqqNL_U5N",
        "outputId": "b734daf9-cdfe-4d35-f883-5bbfd7d55981"
      },
      "source": [
        "y_test.shape"
      ],
      "execution_count": null,
      "outputs": [
        {
          "output_type": "execute_result",
          "data": {
            "text/plain": [
              "(890,)"
            ]
          },
          "metadata": {
            "tags": []
          },
          "execution_count": 101
        }
      ]
    },
    {
      "cell_type": "code",
      "metadata": {
        "id": "Qsxr-aLn3gZB"
      },
      "source": [
        "def mean_absolute_percentage_error(y_true, y_pred): \r\n",
        "    y_true, y_pred = np.array(y_true), np.array(y_pred)\r\n",
        "    return np.mean(np.abs((y_true - y_pred) / y_true)) * 100"
      ],
      "execution_count": null,
      "outputs": []
    },
    {
      "cell_type": "code",
      "metadata": {
        "colab": {
          "base_uri": "https://localhost:8080/"
        },
        "id": "pFvTRI644I4y",
        "outputId": "38f54bf0-feee-4ecd-dc04-e4c3accce5e2"
      },
      "source": [
        "mean_absolute_percentage_error(y_test , y_pred)"
      ],
      "execution_count": null,
      "outputs": [
        {
          "output_type": "execute_result",
          "data": {
            "text/plain": [
              "2.9810307121476405"
            ]
          },
          "metadata": {
            "tags": []
          },
          "execution_count": 98
        }
      ]
    },
    {
      "cell_type": "code",
      "metadata": {
        "colab": {
          "base_uri": "https://localhost:8080/"
        },
        "id": "ryAW5uUJ4NXp",
        "outputId": "b0b42d26-591f-4910-f2bb-caeb4b11da76"
      },
      "source": [
        "mean_absolute_percentage_error(y_train , y_pred_train)"
      ],
      "execution_count": null,
      "outputs": [
        {
          "output_type": "execute_result",
          "data": {
            "text/plain": [
              "2.948126330284153"
            ]
          },
          "metadata": {
            "tags": []
          },
          "execution_count": 99
        }
      ]
    },
    {
      "cell_type": "code",
      "metadata": {
        "id": "8NkYiy1m_dNe"
      },
      "source": [
        "l=[]\r\n",
        "for i in range(200):\r\n",
        "  l.append(i)"
      ],
      "execution_count": null,
      "outputs": []
    },
    {
      "cell_type": "code",
      "metadata": {
        "colab": {
          "base_uri": "https://localhost:8080/",
          "height": 312
        },
        "id": "FxOL611C4Zms",
        "outputId": "0410bc93-a599-4938-cdd1-d14a3afdf417"
      },
      "source": [
        "sns.lineplot(x=l , y=y_test[:200] , label='Real')\r\n",
        "sns.lineplot(x=l , y=y_pred[:200] , label='Predicted')\r\n",
        "plt.xlabel('Days')\r\n",
        "plt.ylabel('NIFTY')\r\n",
        "plt.title('Comparison of Real & Predicted')"
      ],
      "execution_count": null,
      "outputs": [
        {
          "output_type": "execute_result",
          "data": {
            "text/plain": [
              "Text(0.5, 1.0, 'Comparison of Real & Predicted')"
            ]
          },
          "metadata": {
            "tags": []
          },
          "execution_count": 117
        },
        {
          "output_type": "display_data",
          "data": {
            "image/png": "[encoded data removed]",
            "text/plain": [
              "<Figure size 432x288 with 1 Axes>"
            ]
          },
          "metadata": {
            "tags": [],
            "needs_background": "light"
          }
        }
      ]
    },
    {
      "cell_type": "code",
      "metadata": {
        "colab": {
          "base_uri": "https://localhost:8080/"
        },
        "id": "mzrwdH_Q_zqe",
        "outputId": "e0b86712-e99e-4b6c-87f3-d0daeb998edc"
      },
      "source": [
        "y_test[:100]"
      ],
      "execution_count": null,
      "outputs": [
        {
          "output_type": "execute_result",
          "data": {
            "text/plain": [
              "2495    10746.049810\n",
              "1313     6696.399902\n",
              "767      5531.950195\n",
              "1461     8340.700195\n",
              "2834    10705.750000\n",
              "            ...     \n",
              "51       2978.149902\n",
              "2419    10124.900390\n",
              "2134     9917.900391\n",
              "1455     8555.900391\n",
              "678      4751.299805\n",
              "Name: target, Length: 100, dtype: float64"
            ]
          },
          "metadata": {
            "tags": []
          },
          "execution_count": 104
        }
      ]
    },
    {
      "cell_type": "code",
      "metadata": {
        "id": "hZvBm5kX_-xJ"
      },
      "source": [
        ""
      ],
      "execution_count": null,
      "outputs": []
    }
  ]
}